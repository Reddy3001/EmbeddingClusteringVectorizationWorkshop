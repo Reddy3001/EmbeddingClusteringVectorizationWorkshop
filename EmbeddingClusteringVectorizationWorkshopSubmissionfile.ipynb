{
 "cells": [
  {
   "cell_type": "markdown",
   "metadata": {},
   "source": [
    "## Word Embeddings, Clustering and Vectorization Workshop\n",
    "Tutorial for extracting word embeddings from words.<br>"
   ]
  },
  {
   "cell_type": "markdown",
   "metadata": {},
   "source": [
    "## Part 1: Vector Stores and Dimensionality Reduction"
   ]
  },
  {
   "cell_type": "markdown",
   "metadata": {},
   "source": [
    "### 🔤 Introduction to Word2Vec\n",
    "\n",
    "**What is Word2Vec?**\n",
    "\n",
    "Word2Vec is a popular algorithm used in Natural Language Processing (NLP) to transform words into vector representations.\n",
    "It learns these word vectors (embeddings) from a large collection of text so that words with similar meanings are located close to each other in a high-dimensional space.\n",
    "\n",
    "**Who developed it and when?**\n",
    "\n",
    "Word2Vec was developed by a team of researchers at Google, led by Tomas Mikolov, in 2013.\n",
    "\n",
    "**Who currently maintains and supports new releases?**\n",
    "\n",
    "While the original research came from Google, the open-source Python library gensim now maintains Word2Vec functionality.\n",
    "gensim is maintained by the open-source community, originally developed by Radim Řehůřek."
   ]
  },
  {
   "cell_type": "markdown",
   "metadata": {},
   "source": [
    "### 🔤 Word2Vec embeddings using the Gensim library\n",
    "\n",
    "Word2Vec is a popular technique for learning word embeddings, which are dense vector representations of words that capture semantic relationships between words based on their context.<br>\n",
    "As discussed, Word2Vec have 2 types, Skipgrams and CBOW. Where SkipGrams are trained to predict context words given the target word, however CBOW is trained to predict target words given its context.\n"
   ]
  },
  {
   "cell_type": "markdown",
   "metadata": {},
   "source": [
    "- Requirements: downloading punkt from nltk, and installing gensim library"
   ]
  },
  {
   "cell_type": "code",
   "execution_count": 43,
   "metadata": {},
   "outputs": [
    {
     "name": "stdout",
     "output_type": "stream",
     "text": [
      "Downloading 'punkt' tokenizer...\n"
     ]
    },
    {
     "name": "stderr",
     "output_type": "stream",
     "text": [
      "[nltk_data] Downloading package punkt to d:\\conestoga\\AI\\Machine-\n",
      "[nltk_data]     Learning-Programming-PROG8245-\n",
      "[nltk_data]     \\EmbeddingClusteringVectorizationWorkshop\\nltk_data...\n",
      "[nltk_data]   Unzipping tokenizers\\punkt.zip.\n"
     ]
    },
    {
     "name": "stdout",
     "output_type": "stream",
     "text": [
      "Downloading 'punkt_tab' tokenizer...\n"
     ]
    },
    {
     "name": "stderr",
     "output_type": "stream",
     "text": [
      "[nltk_data] Downloading package punkt_tab to d:\\conestoga\\AI\\Machine-\n",
      "[nltk_data]     Learning-Programming-PROG8245-\n",
      "[nltk_data]     \\EmbeddingClusteringVectorizationWorkshop\\nltk_data...\n"
     ]
    },
    {
     "name": "stdout",
     "output_type": "stream",
     "text": [
      "NLTK Data Paths: ['C:\\\\Users\\\\yogeshkumar/nltk_data', 'd:\\\\conestoga\\\\AI\\\\Machine-Learning-Programming-PROG8245-\\\\EmbeddingClusteringVectorizationWorkshop\\\\.venv\\\\nltk_data', 'd:\\\\conestoga\\\\AI\\\\Machine-Learning-Programming-PROG8245-\\\\EmbeddingClusteringVectorizationWorkshop\\\\.venv\\\\share\\\\nltk_data', 'd:\\\\conestoga\\\\AI\\\\Machine-Learning-Programming-PROG8245-\\\\EmbeddingClusteringVectorizationWorkshop\\\\.venv\\\\lib\\\\nltk_data', 'C:\\\\Users\\\\yogeshkumar\\\\AppData\\\\Roaming\\\\nltk_data', 'C:\\\\nltk_data', 'D:\\\\nltk_data', 'E:\\\\nltk_data', 'd:\\\\conestoga\\\\AI\\\\Machine-Learning-Programming-PROG8245-\\\\EmbeddingClusteringVectorizationWorkshop\\\\nltk_data']\n",
      "Contents of nltk_data: ['corpora', 'tokenizers']\n"
     ]
    },
    {
     "name": "stderr",
     "output_type": "stream",
     "text": [
      "[nltk_data]   Unzipping tokenizers\\punkt_tab.zip.\n"
     ]
    }
   ],
   "source": [
    "# importing needed libraries\n",
    "import nltk\n",
    "from nltk.tokenize import word_tokenize\n",
    "from gensim.models import Word2Vec\n",
    "import re\n",
    "import os\n",
    "\n",
    "# Warning: This download will copy files to your home directory.\n",
    "# For example, on Linux, it will copy files to ~/.nltk_data.\n",
    "# In Windows, it will copy files to C:\\Users\\YourAccount\\AppData\\Roaming\n",
    "# nltk.download('punkt')\n",
    "\n",
    "# A better way to handle the download is to:\n",
    "# Ensure 'punkt' is available and nltk_data path is set\n",
    "nltk_data_path = os.path.join(os.getcwd(), 'nltk_data')\n",
    "print(\"Downloading 'punkt' tokenizer...\")\n",
    "nltk.download('punkt', download_dir=nltk_data_path, force=True)\n",
    "print(\"Downloading 'punkt_tab' tokenizer...\")\n",
    "nltk.download('punkt_tab', download_dir=nltk_data_path, force=True)\n",
    "\n",
    "# Always append the custom nltk_data path (if not already present)\n",
    "if nltk_data_path not in nltk.data.path:\n",
    "    nltk.data.path.append(nltk_data_path)\n",
    "\n",
    "# Debugging paths and contents\n",
    "print(\"NLTK Data Paths:\", nltk.data.path)\n",
    "print(\"Contents of nltk_data:\", os.listdir(nltk_data_path))"
   ]
  },
  {
   "cell_type": "markdown",
   "metadata": {},
   "source": [
    "**How do I use Word2Vec in Python and Jupyter Notebooks?**\n",
    "\n",
    "To use Word2Vec in Python, we typically start by following the NLP pipeline to produce a set of tokens:"
   ]
  },
  {
   "cell_type": "code",
   "execution_count": 44,
   "metadata": {},
   "outputs": [],
   "source": [
    "\n",
    "# Sample Sentence\n",
    "text = \"\"\"\n",
    "Natural language processing (NLP) is a subfield of artificial intelligence (AI) that focuses on the interaction between computers and humans through natural language. NLP techniques aim to enable computers to understand, interpret, and generate human language in a way that is both meaningful and contextually relevant.\n",
    "\"\"\"\n",
    "tokenized_words = word_tokenize(text.lower())"
   ]
  },
  {
   "cell_type": "markdown",
   "metadata": {},
   "source": [
    "**What is a model in Word2Vec?**\n",
    "\n",
    "A Word2Vec model is a trained neural network that maps words from your dataset to numerical vectors (embeddings).\n",
    "The model learns word relationships based on how often they appear together in context.\n",
    "\n",
    "After the model is trained, each word in your vocabulary is now represented by a vector of numbers that can be used in tasks like similarity, clustering, or classification."
   ]
  },
  {
   "cell_type": "markdown",
   "metadata": {},
   "source": [
    "#### 🧠 Explanation of the model creation instruction\n",
    "\n",
    "- `sentences`: A list of tokenized sentences (in this case, [tokenized_words] means a list of words).\n",
    "- `vector_size=100`: Each word will be represented by a vector with 100 dimensions.\n",
    "- `window=5`: The model considers 5 words before and after the target word (context window).\n",
    "- `min_count=1`: Include all words that appear at least once.\n",
    "- `workers=4`: Uses 4 CPU threads to speed up training.\n",
    "\n",
    "**This model will learn how words relate to each other and store them as vectors in its internal memory.**"
   ]
  },
  {
   "cell_type": "code",
   "execution_count": 45,
   "metadata": {},
   "outputs": [],
   "source": [
    "\n",
    "# Create a model\n",
    "model_word2Vec = Word2Vec(sentences=[tokenized_words], vector_size=100, window=5,  min_count=1, workers=4)\n"
   ]
  },
  {
   "cell_type": "code",
   "execution_count": 46,
   "metadata": {},
   "outputs": [
    {
     "name": "stdout",
     "output_type": "stream",
     "text": [
      "Word vector for 'natural' using Word2Vec: [ 9.7677782e-03  8.1660571e-03  1.2824415e-03  5.0961543e-03\n",
      "  1.4111997e-03 -6.4565288e-03 -1.4263709e-03  6.4554145e-03\n",
      " -4.6142652e-03 -3.9982158e-03  4.9256445e-03  2.7088171e-03\n",
      " -1.8488776e-03 -2.8771167e-03  6.0128667e-03 -5.7193758e-03\n",
      " -3.2359585e-03 -6.4862915e-03 -4.2332727e-03 -8.5828872e-03\n",
      " -4.4678589e-03 -8.5100969e-03  1.4073158e-03 -8.6173387e-03\n",
      " -9.9171931e-03 -8.1990846e-03 -6.7746509e-03  6.6816173e-03\n",
      "  3.7847536e-03  3.5862759e-04 -2.9584991e-03 -7.4309031e-03\n",
      "  5.3533691e-04  4.9602799e-04  1.9528088e-04  8.5502834e-04\n",
      "  7.8575133e-04 -6.8000947e-05 -8.0067776e-03 -5.8704857e-03\n",
      " -8.3809830e-03 -1.3128266e-03  1.8227567e-03  7.4166572e-03\n",
      " -1.9609320e-03 -2.3290999e-03  9.4883377e-03  7.7135672e-05\n",
      " -2.4036409e-03  8.6050434e-03  2.6895036e-03 -5.3454847e-03\n",
      "  6.5883417e-03  4.5046136e-03 -7.0522660e-03 -3.2422124e-04\n",
      "  8.3561603e-04  5.7515986e-03 -1.7124334e-03 -2.8061748e-03\n",
      "  1.7436619e-03  8.4547797e-04  1.1993751e-03 -2.6319386e-03\n",
      " -5.9873001e-03  7.3245075e-03  7.5903167e-03  8.3019929e-03\n",
      " -8.6049568e-03  2.6368434e-03 -3.5572525e-03  9.6196802e-03\n",
      "  2.9079712e-03  4.6442053e-03  2.3883146e-03  6.6080089e-03\n",
      " -5.7441704e-03  7.8938995e-03 -2.4147970e-03 -4.5607802e-03\n",
      " -2.0670148e-03  9.7331312e-03 -6.8544834e-03 -2.1881904e-03\n",
      "  7.0035020e-03 -5.5899494e-05 -6.2885885e-03 -6.3933753e-03\n",
      "  8.9407340e-03  6.4313002e-03  4.7728014e-03 -3.2625105e-03\n",
      " -9.2627993e-03  3.7834919e-03  7.1657933e-03 -5.6293588e-03\n",
      " -7.8603160e-03 -2.9704703e-03 -4.9296161e-03 -2.3143364e-03]\n"
     ]
    }
   ],
   "source": [
    "\n",
    "# Get word vector for a specific word\n",
    "word = \"natural\"\n",
    "vector_word2Vec = model_word2Vec.wv[word]\n",
    "print(f\"Word vector for '{word}' using Word2Vec: {vector_word2Vec}\")\n"
   ]
  },
  {
   "cell_type": "markdown",
   "metadata": {},
   "source": [
    "\n",
    "#### 📊 Understanding Word Vectors in Word2Vec\n",
    "\n",
    "#### 🔢 Code Recap\n",
    "\n",
    "```python\n",
    "# Get word vector for a specific word\n",
    "word = \"natural\"\n",
    "vector_word2Vec = model_word2Vec.wv[word]\n",
    "print(f\"Word vector for '{word}' using Word2Vec: {vector_word2Vec}\")\n",
    "```\n",
    "\n",
    "This code retrieves the **vector representation (embedding)** of the word `\"natural\"` from the trained Word2Vec model.\n",
    "\n",
    "#### 🧠 What Is a Word Vector?\n",
    "\n",
    "In **Word2Vec**, every word in your vocabulary is represented by a **dense vector** of real numbers.\n",
    "\n",
    "* Each word becomes a **point** in a high-dimensional space.\n",
    "* Words that appear in similar contexts are placed **closer together**.\n",
    "* These vectors are learned by a shallow neural network during training.\n",
    "\n",
    "The output you see is a **vector with 100 dimensions**, because we set `vector_size=100` when training the model.\n",
    "\n",
    "#### ✍️ What Do These Numbers Mean?\n",
    "\n",
    "The output:\n",
    "\n",
    "```python\n",
    "[ 9.7677782e-03, 8.1660571e-03, ..., -2.3143364e-03 ]\n",
    "```\n",
    "\n",
    "...is a list of 100 floating-point numbers, like:\n",
    "\n",
    "$$\n",
    "\\vec{v}_{\\text{natural}} = [v_1, v_2, v_3, \\ldots, v_{100}]\n",
    "$$\n",
    "\n",
    "This vector encodes the **semantic meaning** of the word *natural* based on its context in the training data.\n",
    "\n",
    "While **each individual number doesn't mean anything by itself**, together they represent a **position** in a 100-dimensional space.\n",
    "\n",
    "#### 🔍 Why Is This Useful?\n",
    "\n",
    "You can perform various mathematical operations with these vectors:\n",
    "\n",
    "#### **Similarity** between words\n",
    "\n",
    "We can compute **cosine similarity** to check how similar two words are:\n",
    "\n",
    "$$\n",
    "\\text{cosine\\_similarity}(\\vec{v}_a, \\vec{v}_b) = \\frac{\\vec{v}_a \\cdot \\vec{v}_b}{\\|\\vec{v}_a\\| \\|\\vec{v}_b\\|}\n",
    "$$\n",
    "\n",
    "If two word vectors point in a similar direction (small angle), they are semantically similar.\n",
    "\n",
    "#### 🧮 Summary\n",
    "\n",
    "* The output is a **100-dimensional vector** for the word `\"natural\"`.\n",
    "* Each dimension is a learned number that helps position the word in a semantic space.\n",
    "* These vectors are powerful tools for **clustering**, **search**, **recommendations**, and more.\n"
   ]
  },
  {
   "cell_type": "code",
   "execution_count": 47,
   "metadata": {},
   "outputs": [
    {
     "name": "stdout",
     "output_type": "stream",
     "text": [
      "Similar words to 'natural' using Word2Vec: [('the', 0.18205022811889648), ('computers', 0.17279495298862457), ('nlp', 0.16703090071678162), ('between', 0.15633626282215118), ('way', 0.132953941822052), ('techniques', 0.1217019185423851), ('human', 0.11190377175807953), ('is', 0.11137472838163376), ('.', 0.10943768173456192), ('in', 0.09740892797708511)]\n"
     ]
    }
   ],
   "source": [
    "\n",
    "# Find similar words\n",
    "similar_words_word2Vec = model_word2Vec.wv.most_similar(word)\n",
    "print(f\"Similar words to '{word}' using Word2Vec: {similar_words_word2Vec}\")"
   ]
  },
  {
   "cell_type": "markdown",
   "metadata": {},
   "source": [
    "#### 🔍 Finding Similar Words with Word2Vec\n",
    "\n",
    "#### 🔢 Code Recap\n",
    "\n",
    "```python\n",
    "# Find similar words\n",
    "similar_words_word2Vec = model_word2Vec.wv.most_similar(word)\n",
    "print(f\"Similar words to '{word}' using Word2Vec: {similar_words_word2Vec}\")\n",
    "```\n",
    "\n",
    "This code retrieves the **top 10 words** that are most similar to the word `\"natural\"` according to the Word2Vec model.\n",
    "\n",
    "#### 🧠 What Does “Similar” Mean in Word2Vec?\n",
    "\n",
    "Word2Vec considers words to be similar if their **vector representations** are **close together** in high-dimensional space.\n",
    "\n",
    "This closeness is measured using **cosine similarity**:\n",
    "\n",
    "$$\n",
    "\\text{cosine\\_similarity}(\\vec{v}_a, \\vec{v}_b) = \\frac{\\vec{v}_a \\cdot \\vec{v}_b}{\\|\\vec{v}_a\\| \\|\\vec{v}_b\\|}\n",
    "$$\n",
    "\n",
    "Where:\n",
    "\n",
    "* $\\vec{v}_a$ and $\\vec{v}_b$ are the word vectors.\n",
    "* $\\cdot$ is the dot product.\n",
    "* $\\|\\vec{v}\\|$ is the magnitude (length) of vector $\\vec{v}$.\n",
    "\n",
    "This produces a value between **-1 and 1**:\n",
    "\n",
    "* **1** → perfectly similar (same direction)\n",
    "* **0** → no similarity (orthogonal)\n",
    "* **-1** → completely opposite\n",
    "\n",
    "#### 📤 Example Output Explained\n",
    "\n",
    "```python\n",
    "[('the', 0.182), ('computers', 0.173), ('nlp', 0.167), ('between', 0.156), ...]\n",
    "```\n",
    "\n",
    "This means:\n",
    "\n",
    "| Word       | Cosine Similarity |\n",
    "| ---------- | ----------------: |\n",
    "| the        |             0.182 |\n",
    "| computers  |             0.173 |\n",
    "| nlp        |             0.167 |\n",
    "| between    |             0.156 |\n",
    "| way        |             0.133 |\n",
    "| techniques |             0.122 |\n",
    "| human      |             0.112 |\n",
    "| is         |             0.111 |\n",
    "| .          |             0.109 |\n",
    "| in         |             0.097 |\n",
    "\n",
    "These words appeared in **similar contexts** to `\"natural\"` in the training data.\n",
    "\n",
    "💡 Example: If the training sentences included phrases like *\"natural language processing\"*, and also had *\"nlp techniques\"*, *\"human language\"*, or *\"way computers process language\"*, then `\"nlp\"`, `\"human\"`, `\"techniques\"`, and `\"computers\"` would naturally be nearby in vector space.\n",
    "\n",
    "#### 🎯 Summary\n",
    "\n",
    "* Word2Vec learned that these words tend to appear **in similar contexts** to `\"natural\"`.\n",
    "* The similarity is calculated using **cosine similarity** on the word vectors.\n",
    "* The output is a **ranked list** of the most contextually similar words.\n",
    "\n",
    "You can use this method for:\n",
    "\n",
    "* **Synonym detection**\n",
    "* **Query expansion in search engines**\n",
    "* **Exploring semantic relationships in text**\n"
   ]
  },
  {
   "cell_type": "markdown",
   "metadata": {},
   "source": [
    "SKIPGRAM"
   ]
  },
  {
   "cell_type": "code",
   "execution_count": 48,
   "metadata": {},
   "outputs": [
    {
     "name": "stdout",
     "output_type": "stream",
     "text": [
      "Word vector for 'natural' using Word2Vec: [ 9.7560594e-03  8.1837382e-03  1.2749929e-03  5.0885216e-03\n",
      "  1.4197045e-03 -6.4642793e-03 -1.4139625e-03  6.4928550e-03\n",
      " -4.5966040e-03 -4.0299655e-03  4.9349130e-03  2.6995181e-03\n",
      " -1.8642256e-03 -2.8852355e-03  6.0293451e-03 -5.7219444e-03\n",
      " -3.2204802e-03 -6.4718416e-03 -4.2412677e-03 -8.6018732e-03\n",
      " -4.4668955e-03 -8.5097319e-03  1.4350453e-03 -8.6022997e-03\n",
      " -9.9223088e-03 -8.1811352e-03 -6.7903432e-03  6.6781528e-03\n",
      "  3.7741212e-03  3.8249884e-04 -2.9489524e-03 -7.4540060e-03\n",
      "  5.5145065e-04  4.5050459e-04  1.9722257e-04  8.7002927e-04\n",
      "  7.8579254e-04 -5.3762877e-05 -8.0068922e-03 -5.8717947e-03\n",
      " -8.3752135e-03 -1.3240752e-03  1.8263231e-03  7.4135112e-03\n",
      " -1.9431072e-03 -2.3709578e-03  9.4990870e-03  6.5692475e-05\n",
      " -2.3902180e-03  8.6148782e-03  2.6981176e-03 -5.3681955e-03\n",
      "  6.5755984e-03  4.4756997e-03 -7.0470911e-03 -3.3048174e-04\n",
      "  8.4354519e-04  5.7695392e-03 -1.7010819e-03 -2.8101471e-03\n",
      "  1.7289129e-03  8.4504735e-04  1.2449822e-03 -2.6174709e-03\n",
      " -5.9942645e-03  7.3426268e-03  7.6138256e-03  8.3376402e-03\n",
      " -8.6436616e-03  2.6258396e-03 -3.5365210e-03  9.6146055e-03\n",
      "  2.9243540e-03  4.6647862e-03  2.4113974e-03  6.6110250e-03\n",
      " -5.7670949e-03  7.9064583e-03 -2.4338046e-03 -4.5622801e-03\n",
      " -2.0936483e-03  9.7247604e-03 -6.8399375e-03 -2.1707318e-03\n",
      "  7.0196702e-03 -6.4964515e-05 -6.2429188e-03 -6.3747172e-03\n",
      "  8.9329863e-03  6.4313347e-03  4.7613429e-03 -3.2608127e-03\n",
      " -9.2309425e-03  3.7660070e-03  7.2048181e-03 -5.6177112e-03\n",
      " -7.8248540e-03 -2.9649783e-03 -4.9336134e-03 -2.3122558e-03]\n",
      "Similar words to 'natural' using Word2Vec: [('the', 0.18247944116592407), ('computers', 0.17329458892345428), ('nlp', 0.16800321638584137), ('between', 0.15757213532924652), ('way', 0.13358870148658752), ('techniques', 0.12223327159881592), ('human', 0.11273691058158875), ('is', 0.11178377270698547), ('.', 0.10937003791332245), ('in', 0.09767643362283707)]\n"
     ]
    }
   ],
   "source": [
    "# Create a model\n",
    "model_skipGram = Word2Vec(sentences=[tokenized_words], vector_size=100, window=5,  min_count=1, workers=4, sg=1)\n",
    "\n",
    "# Get word vector for a specific word\n",
    "vector_skipGram = model_skipGram.wv[word]\n",
    "print(f\"Word vector for '{word}' using Word2Vec: {vector_skipGram}\")\n",
    "\n",
    "# Find similar words\n",
    "similar_words_skipGrams = model_skipGram.wv.most_similar(word)\n",
    "print(f\"Similar words to '{word}' using Word2Vec: {similar_words_skipGrams}\")"
   ]
  },
  {
   "cell_type": "markdown",
   "metadata": {},
   "source": [
    "#### 🧠 Understanding Skip-grams in Word2Vec\n",
    "\n",
    "### 🔁 What Are Skip-grams?\n",
    "\n",
    "A **Skip-gram** is a training approach used in Word2Vec that **predicts context words given a center word**.\n",
    "\n",
    "> 🔑 Goal: For a given target word, predict the words that are likely to appear nearby in a sentence.\n",
    "\n",
    "#### 📚 How Does Skip-gram Work?\n",
    "\n",
    "Let’s take a sentence:\n",
    "\n",
    "```\n",
    "\"The field of natural language processing is growing.\"\n",
    "```\n",
    "\n",
    "If the center word is `\"natural\"` and the window size is 2, the context window is:\n",
    "\n",
    "```python\n",
    "[\"of\", \"natural\", \"language\", \"processing\"]\n",
    "```\n",
    "\n",
    "The skip-gram model will create training pairs like:\n",
    "\n",
    "```python\n",
    "(\"natural\", \"of\"), (\"natural\", \"language\")\n",
    "```\n",
    "<br/>\n",
    "\n",
    "🧠 The model **learns embeddings** by trying to **maximize the probability** of seeing context words given the center word.\n",
    "\n",
    "#### 📐 The Skip-gram Objective Function\n",
    "\n",
    "The skip-gram model aims to maximize the following log-likelihood objective over a large corpus:\n",
    "\n",
    "$$\n",
    "\\frac{1}{T} \\sum_{t=1}^{T} \\sum_{-c \\leq j \\leq c, j \\neq 0} \\log P(w_{t+j} \\mid w_t)\n",
    "$$\n",
    "\n",
    "Where:\n",
    "\n",
    "* $T$ is the total number of words in the corpus\n",
    "* $w_t$ is the center word\n",
    "* $w_{t+j}$ are the surrounding context words\n",
    "* $c$ is the window size\n",
    "\n",
    "The probability $P(w_{t+j} \\mid w_t)$ is computed using softmax:\n",
    "\n",
    "$$\n",
    "P(w_O \\mid w_I) = \\frac{\\exp\\left({\\vec{v}_{w_O}^\\top \\vec{v}_{w_I}}\\right)}{\\sum_{w = 1}^{V} \\exp\\left({\\vec{v}_w^\\top \\vec{v}_{w_I}}\\right)}\n",
    "$$\n",
    "\n",
    "Where:\n",
    "\n",
    "* $\\vec{v}_{w_I}$: vector of the input word (center)\n",
    "* $\\vec{v}_{w_O}$: vector of the output/context word\n",
    "* $V$: vocabulary size\n",
    "\n",
    "### 🧪 Code Recap\n",
    "\n",
    "```python\n",
    "model_skipGram = Word2Vec(sentences=[tokenized_words], vector_size=100, window=5, min_count=1, workers=4, sg=1)\n",
    "```\n",
    "\n",
    "* `sg=1` activates the **Skip-gram** architecture (`sg=0` would activate CBOW instead).\n",
    "* This model now learns word embeddings by training on `(center → context)` word pairs.\n",
    "\n",
    "#### 📤 Output Explanation\n",
    "\n",
    "#### ✅ Word Vector\n",
    "\n",
    "```python\n",
    "vector_skipGram = model_skipGram.wv[word]\n",
    "```\n",
    "\n",
    "Returns a **100-dimensional vector** for the word `\"natural\"` that reflects its learned representation based on surrounding context words.\n",
    "\n",
    "#### ✅ Most Similar Words\n",
    "\n",
    "```python\n",
    "model_skipGram.wv.most_similar(\"natural\")\n",
    "```\n",
    "\n",
    "Returns a list of the **top 10 most similar words** to `\"natural\"`, ranked by **cosine similarity** between their vectors.\n",
    "\n",
    "Example output:\n",
    "\n",
    "```python\n",
    "[('the', 0.182), ('computers', 0.173), ('nlp', 0.168), ...]\n",
    "```\n",
    "\n",
    "These are the words that appeared in **similar contexts** to `\"natural\"` across the training data.\n",
    "<br/>\n",
    "\n",
    "🧠 This similarity emerges from the way skip-gram **updates** the vector for `\"natural\"` and its surrounding words whenever they co-occur — over time, semantically related words move closer together in vector space.\n",
    "\n",
    "#### 🧭 Summary\n",
    "\n",
    "| Component           | Role                                                     |\n",
    "| ------------------- | -------------------------------------------------------- |\n",
    "| Skip-gram Objective | Predicts context words based on a center word            |\n",
    "| sg=1                | Enables skip-gram architecture in `Word2Vec()`           |\n",
    "| Output Vector       | A 100D numeric representation of the word \"natural\"      |\n",
    "| Similar Words       | Top 10 words that share similar context to \"natural\"     |\n",
    "| Math Mechanism      | Uses dot products and softmax to update vector positions |\n"
   ]
  },
  {
   "cell_type": "code",
   "execution_count": 49,
   "metadata": {},
   "outputs": [],
   "source": [
    "model_skipGram.save('saveModelSkipGram.bin')\n",
    "# Word2Vec.load('path')"
   ]
  },
  {
   "cell_type": "markdown",
   "metadata": {},
   "source": [
    "#### 💾 Saving and Loading a Word2Vec Skip-gram Model\n",
    "\n",
    "#### ✅ What This Code Does\n",
    "\n",
    "#### 📌 `model_skipGram.save('saveModelSkipGram.bin')`\n",
    "\n",
    "* This **saves** the trained Word2Vec Skip-gram model to a file named `'saveModelSkipGram.bin'`.\n",
    "* You can later load this file to **reuse the model** without retraining it.\n",
    "* Useful for large models that take time to train.\n",
    "\n",
    "#### 📌 `Word2Vec.load('path')`\n",
    "\n",
    "* This **loads** a previously saved Word2Vec model from disk.\n",
    "* You can then use the loaded model to get vectors or find similar words.\n",
    "\n",
    "#### 🧠 Example\n",
    "\n",
    "```python\n",
    "# Save the model\n",
    "model_skipGram.save('saveModelSkipGram.bin')\n",
    "\n",
    "# Later or in another notebook\n",
    "from gensim.models import Word2Vec\n",
    "loaded_model = Word2Vec.load('saveModelSkipGram.bin')\n",
    "\n",
    "# Use the loaded model\n",
    "loaded_model.wv['natural']\n",
    "```\n",
    "\n",
    "#### 🗂️ Summary\n",
    "\n",
    "| Action    | What It Does                      |\n",
    "| --------- | --------------------------------- |\n",
    "| `.save()` | Saves the trained model to a file |\n",
    "| `.load()` | Loads the model back into memory  |"
   ]
  },
  {
   "cell_type": "markdown",
   "metadata": {},
   "source": [
    "How to use word2Vec for SkipGrams and CBOW? Explore whether they will give different results for similar words"
   ]
  },
  {
   "cell_type": "markdown",
   "metadata": {},
   "source": [
    "### 🧠 Clustering Words based on Cooccurence Pattern - **Brown Clustering**\n",
    "\n",
    "> Brown Clustering is a method to cluster words based on their co-occurrence patterns.\n",
    "\n",
    "> It starts with each word as a separate cluster and iteratively merges the most similar clusters based on their co-occurrence patterns.\n",
    "\n",
    "> Brown Clustering is used for tasks like named entity recognition, word sense disambiguation, and topic modeling."
   ]
  },
  {
   "cell_type": "code",
   "execution_count": 50,
   "metadata": {},
   "outputs": [
    {
     "name": "stdout",
     "output_type": "stream",
     "text": [
      "Downloading 'brown' tokenizer...\n"
     ]
    },
    {
     "name": "stderr",
     "output_type": "stream",
     "text": [
      "[nltk_data] Downloading package brown to d:\\conestoga\\AI\\Machine-\n",
      "[nltk_data]     Learning-Programming-PROG8245-\n",
      "[nltk_data]     \\EmbeddingClusteringVectorizationWorkshop\\nltk_data...\n",
      "[nltk_data]   Unzipping corpora\\brown.zip.\n"
     ]
    },
    {
     "data": {
      "text/plain": [
       "True"
      ]
     },
     "execution_count": 50,
     "metadata": {},
     "output_type": "execute_result"
    }
   ],
   "source": [
    "from nltk.corpus import brown\n",
    "import numpy as np\n",
    "\n",
    "# download brown corpus if not downloaded before\n",
    "# Warning: This will download the brown corpus to your home directory.\n",
    "# For example, on Linux, it will copy files to ~/.nltk_data.\n",
    "# In Windows, it will copy files to C:\\Users\\YourAccount\\AppData\\Roaming\n",
    "# nltk.download('brown')\n",
    "\n",
    "nltk_data_path = os.path.join(os.getcwd(), 'nltk_data')\n",
    "print(\"Downloading 'brown' tokenizer...\")\n",
    "nltk.download('brown', download_dir=nltk_data_path, force=True)\n"
   ]
  },
  {
   "cell_type": "markdown",
   "metadata": {},
   "source": [
    "#### 🤝 Co-occurrence and Brown Clustering: An Introductory Example\n",
    "\n",
    "### 📌 Code Recap\n",
    "\n",
    "This code performs a **simple version of Brown clustering** based on a **co-occurrence matrix** built from the [**Brown Corpus**](https://en.wikipedia.org/wiki/Brown_Corpus).\n",
    "\n",
    "---\n",
    "\n",
    "### 🔤 What Is Co-occurrence?\n",
    "\n",
    "> **Co-occurrence** means that two words appear **near each other** in a sentence — within a defined **window size**.\n",
    "\n",
    "For example, in the sentence:\n",
    "\n",
    "```\n",
    "\"The field of natural language processing is growing.\"\n",
    "```\n",
    "\n",
    "If the window size is 2, the word `\"natural\"` co-occurs with:\n",
    "\n",
    "* `\"of\"`, `\"language\"`, `\"field\"`, and `\"processing\"`\n",
    "\n",
    "---\n",
    "\n",
    "#### 🧮 What the Code Does Step by Step\n",
    "\n",
    "#### 1. 📥 Download and Load the Brown Corpus\n",
    "\n",
    "```python\n",
    "nltk.download('brown')\n",
    "corpus = brown.sents()[:1]  # use just one sentence for this example\n",
    "```\n",
    "\n",
    "* Retrieves one sentence from the **Brown Corpus**.\n",
    "* Converts all words to **lowercase**.\n",
    "\n",
    "#### 2. 🧾 Build a Vocabulary\n",
    "\n",
    "```python\n",
    "vocab = set(word for sent in corpus for word in sent)\n",
    "```\n",
    "\n",
    "* Creates a set of **unique words** in the sentence."
   ]
  },
  {
   "cell_type": "code",
   "execution_count": 51,
   "metadata": {},
   "outputs": [],
   "source": [
    "# retrieve sentences from brown corpus\n",
    "corpus = brown.sents()[:1]\n",
    "# transform all sentences to lower case\n",
    "corpus = [[word.lower() for word in sent] for sent in corpus]\n",
    "\n",
    "# Create a set of unique words in the corpus --> Vocab\n",
    "vocab = set(word for sent in corpus for word in sent)"
   ]
  },
  {
   "cell_type": "markdown",
   "metadata": {},
   "source": [
    "#### 3. 🧱 Create a Co-occurrence Matrix\n",
    "\n",
    "```python\n",
    "window_size = 2\n",
    "co_occurrence_matrix = np.zeros((len(vocab), len(vocab)))\n",
    "```\n",
    "\n",
    "* Builds a **square matrix** of size *(vocab\\_size × vocab\\_size)*.\n",
    "* Each cell $(i, j)$ in the matrix counts how often **word i** appears within the **window** of **word j**."
   ]
  },
  {
   "cell_type": "code",
   "execution_count": 52,
   "metadata": {},
   "outputs": [],
   "source": [
    "# to find co-occurence pattern, co-occurence matrix is needed to show the word count and which words does it co-occur with\n",
    "window_size = 2  # window_size (bigram)\n",
    "co_occurrence_matrix = np.zeros((len(vocab), len(vocab)))\n",
    "\n",
    "for sentence in corpus:\n",
    "    for i, word in enumerate(sentence):\n",
    "        for j in range(max(0, i - window_size), min(len(sentence), i + window_size + 1)):\n",
    "            if i != j:\n",
    "                word_index = list(vocab).index(word)\n",
    "                context_word = sentence[j]\n",
    "                context_word_index = list(vocab).index(context_word)\n",
    "                co_occurrence_matrix[word_index, context_word_index] += 1"
   ]
  },
  {
   "cell_type": "markdown",
   "metadata": {},
   "source": [
    "#### 4. 🧠 Simulate Brown Clustering\n",
    "\n",
    "```python\n",
    "num_clusters = 2\n",
    "...\n",
    "```\n",
    "\n",
    "* Assigns each word to its own cluster initially.\n",
    "* Iteratively **merges the two most strongly co-occurring clusters**.\n",
    "* This continues until only the desired number of clusters remains.\n",
    "\n",
    "#### 5. 📦 Final Output\n",
    "\n",
    "```python\n",
    "final_clusters[word] = cluster_id\n",
    "```\n",
    "\n",
    "* Produces a dictionary of `{word: cluster_id}` showing the grouping of words.\n",
    "\n",
    "#### 📊 What Is a Co-occurrence Matrix?\n",
    "\n",
    "It’s a matrix where:\n",
    "\n",
    "* **Rows and columns = words in vocabulary**\n",
    "* Each cell $M_{i,j}$ contains the **count of times word $i$** appeared near **word $j$**\n",
    "\n",
    "$$\n",
    "M_{i,j} = \\text{Number of times } w_i \\text{ appears in the context window of } w_j\n",
    "$$"
   ]
  },
  {
   "cell_type": "code",
   "execution_count": 53,
   "metadata": {},
   "outputs": [],
   "source": [
    "# Performing brown clustering, you need to set the number of clusters\n",
    "num_clusters = 2\n",
    "# assign each word as cluster\n",
    "cluster_assignments = np.arange(len(vocab))\n",
    "# Perform Brown clustering by recursively merging clusters\n",
    "for k in range(len(vocab) - num_clusters):\n",
    "    # Find the pair of clusters with the highest co-occurrence count\n",
    "    i, j = np.unravel_index(co_occurrence_matrix.argmax(), co_occurrence_matrix.shape)\n",
    "    # Merge the clusters by assigning the same cluster ID to both clusters\n",
    "    cluster_assignments[cluster_assignments == j] = i\n",
    "    # Update the co-occurrence matrix by merging the counts of the two clusters\n",
    "    co_occurrence_matrix[i, :] += co_occurrence_matrix[j, :]\n",
    "    co_occurrence_matrix[:, i] += co_occurrence_matrix[:, j]\n",
    "    co_occurrence_matrix[i, i] = 0  # Set diagonal element to 0\n",
    "    co_occurrence_matrix[j, :] = 0\n",
    "    co_occurrence_matrix[:, j] = 0\n",
    "\n",
    "# Final cluster assignments\n",
    "final_clusters = {}\n",
    "for word, cluster_id in zip(vocab, cluster_assignments):\n",
    "    final_clusters[word] = cluster_id"
   ]
  },
  {
   "cell_type": "markdown",
   "metadata": {},
   "source": [
    "#### 🧭 Summary\n",
    "\n",
    "| Step                      | What It Does                                  |\n",
    "| ------------------------- | --------------------------------------------- |\n",
    "| Corpus                    | Loads a sentence from the Brown Corpus        |\n",
    "| Vocabulary                | Extracts all unique words                     |\n",
    "| Co-occurrence Matrix      | Counts how often words appear near each other |\n",
    "| Brown Clustering (simple) | Merges similar words into clusters            |\n",
    "| Final Output              | A dictionary of word-to-cluster mappings      |"
   ]
  },
  {
   "cell_type": "code",
   "execution_count": 54,
   "metadata": {},
   "outputs": [
    {
     "data": {
      "text/plain": [
       "2"
      ]
     },
     "execution_count": 54,
     "metadata": {},
     "output_type": "execute_result"
    }
   ],
   "source": [
    "len(set(final_clusters.values()))"
   ]
  },
  {
   "cell_type": "markdown",
   "metadata": {},
   "source": [
    "**NOTE: DONT RUN FOR LARGE DATASET**<br>\n",
    "Visualizing brown clusters: <br>\n",
    "Install scipy if you didn't use it before. pip install scipy\n"
   ]
  },
  {
   "cell_type": "code",
   "execution_count": 55,
   "metadata": {},
   "outputs": [
    {
     "name": "stderr",
     "output_type": "stream",
     "text": [
      "C:\\Users\\yogeshkumar\\AppData\\Local\\Temp\\ipykernel_22496\\3430164255.py:6: ClusterWarning: The symmetric non-negative hollow observation matrix looks suspiciously like an uncondensed distance matrix\n",
      "  linkage_matrix = linkage(co_occurrence_matrix, method='ward')\n"
     ]
    },
    {
     "data": {
      "image/png": "[encoded data removed]",
      "text/plain": [
       "<Figure size 1500x1000 with 1 Axes>"
      ]
     },
     "metadata": {},
     "output_type": "display_data"
    }
   ],
   "source": [
    "# This code should be able to visualize brown clustering, however you need to experiment it with less words as it does many\n",
    "# computations for the linkage matrix.\n",
    "import matplotlib.pyplot as plt\n",
    "from scipy.cluster.hierarchy import dendrogram, linkage\n",
    "# Create a linkage matrix for hierarchical clustering\n",
    "linkage_matrix = linkage(co_occurrence_matrix, method='ward')\n",
    "\n",
    "# Plot the dendrogram\n",
    "plt.figure(figsize=(15, 10))\n",
    "dendrogram(linkage_matrix, labels=list(vocab), orientation='right', leaf_font_size=8)\n",
    "plt.xlabel('Word Clusters')\n",
    "plt.ylabel('Words')\n",
    "plt.title('Brown Clustering Dendrogram')\n",
    "plt.show()"
   ]
  },
  {
   "cell_type": "markdown",
   "metadata": {},
   "source": [
    "#### 🌳 Visualizing Brown Clustering with a Dendrogram\n",
    "\n",
    "#### 📌 Code Recap\n",
    "\n",
    "```python\n",
    "from scipy.cluster.hierarchy import dendrogram, linkage\n",
    "linkage_matrix = linkage(co_occurrence_matrix, method='ward')\n",
    "...\n",
    "dendrogram(linkage_matrix, labels=list(vocab), orientation='right')\n",
    "```\n",
    "\n",
    "This code performs **hierarchical clustering** on the **co-occurrence matrix** and displays it as a **dendrogram**.\n",
    "\n",
    "<br/>\n",
    "\n",
    "##### 🌱 What Is a Dendrogram?\n",
    "\n",
    "A **dendrogram** is a **tree-like diagram** that shows how words are grouped into clusters based on their co-occurrence patterns.\n",
    "\n",
    "* Each **leaf node** (at the left) is a word from the vocabulary.\n",
    "* Words that **frequently co-occur** are joined into **branches**.\n",
    "* The **horizontal axis** shows the **distance** (or dissimilarity) between merged clusters.\n",
    "\n",
    "  * **Shorter horizontal lines** → more similar words\n",
    "  * **Longer lines** → more dissimilar\n",
    "\n",
    "<br/>\n",
    "\n",
    "### 🧠 What This Means\n",
    "\n",
    "* The dendrogram shows how the words are **grouped step-by-step**.\n",
    "* It begins by clustering the **most similar pairs of words** (based on co-occurrence).\n",
    "* Then it merges those groups into larger clusters.\n",
    "\n",
    "For example:\n",
    "\n",
    "* `\"jury\"` and `\"election\"` might co-occur often → they appear close together.\n",
    "* `\"the\"` and `\"of\"` may appear often but with many different words, making them less specific.\n",
    "\n",
    "<br/>\n",
    "\n",
    "### ⚠️ Why Fewer Words?\n",
    "\n",
    "> The message in the code mentions:\n",
    "> \"you need to experiment it with less words...\"\n",
    "\n",
    "* That’s because **hierarchical clustering** requires computing pairwise distances.\n",
    "* Large vocabularies make the **linkage matrix** large and slow to process.\n",
    "* A **small subset** (e.g., 20–30 words) gives a faster and more readable result.\n",
    "\n",
    "<br/>\n",
    "\n",
    "### 📊 Summary Table\n",
    "\n",
    "| Component           | Role                                           |\n",
    "| ------------------- | ---------------------------------------------- |\n",
    "| `linkage()`         | Computes distances for hierarchical clustering |\n",
    "| `dendrogram()`      | Draws the tree structure of word clusters      |\n",
    "| X-axis (horizontal) | Dissimilarity between word clusters            |\n",
    "| Y-axis (vertical)   | Words from the vocabulary                      |\n",
    "| Short branches      | Words with similar co-occurrence contexts      |\n",
    "\n"
   ]
  },
  {
   "cell_type": "markdown",
   "metadata": {},
   "source": [
    "---\n",
    "\n",
    "### 🧠 Introduction to GloVe (Global Vectors for Word Representation)\n",
    "\n",
    "#### **What is GloVe?**\n",
    "\n",
    "**Global Vectors for Word Representation (GloVe)** is an unsupervised learning algorithm used to learn word embeddings from large amounts of text data. Word embeddings are dense vector representations of words that capture semantic relationships between words based on their co-occurrence statistics. \n",
    "\n",
    "**GloVe** is a word embedding model that learns **vector representations of words** by using **global word co-occurrence statistics** from a corpus.\n",
    "\n",
    "\n",
    "Unlike Word2Vec (which learns embeddings through local context windows), GloVe builds a **co-occurrence matrix** and then learns word vectors from it.\n",
    "\n",
    "#### **Who developed it and when?**\n",
    "\n",
    "GloVe was developed by researchers at **Stanford University**:\n",
    "\n",
    "* **Jeffrey Pennington**, **Richard Socher**, and **Christopher Manning**\n",
    "\n",
    "It was first introduced in **2014**.\n",
    "\n",
    "#### **Who currently maintains and supports new releases?**\n",
    "\n",
    "The official code and pretrained models are available at:\n",
    "\n",
    "* [https://nlp.stanford.edu/projects/glove](https://nlp.stanford.edu/projects/glove)\n",
    "\n",
    "GloVe is not actively developed anymore, but the pretrained models are widely used.\n",
    "Unofficial implementations exist in:\n",
    "\n",
    "* `Gensim`\n",
    "* `glove-python` (Python wrapper around original C code)\n",
    "\n",
    "#### **How do I use GloVe in Python and Jupyter Notebooks?**\n",
    "\n",
    "There are two common ways:\n",
    "\n",
    "#### 📦 Option 1: Create a model\n",
    "\n",
    "#### **What is a model in GloVe?**\n",
    "\n",
    "A **GloVe model** is a file that contains:\n",
    "\n",
    "* A large vocabulary of words\n",
    "* For each word: a **fixed-length vector** (e.g., 50D, 100D, 300D)\n",
    "\n",
    "These vectors are learned by factorizing a word-word **co-occurrence matrix** so that **similar words** have **similar vectors**.\n",
    "\n",
    "### **How to Create a GloVe Model Using Python**\n",
    "\n",
    "> GloVe training is more complex than Word2Vec and originally written in C. But here’s a basic pipeline using `glove-python-binary`:\n",
    "\n",
    "#### ✅ Step 1: Install the Library\n",
    "\n",
    "```bash\n",
    "!pip install glove-python-binary\n",
    "```\n",
    "\n",
    "#### ✅ Step 2: Create and Train a GloVe Model\n",
    "\n",
    "```python\n",
    "\n",
    "```\n",
    "\n",
    "#### 📦 Option 2: Load Pretrained GloVe using Gensim"
   ]
  },
  {
   "cell_type": "code",
   "execution_count": 56,
   "metadata": {},
   "outputs": [
    {
     "name": "stderr",
     "output_type": "stream",
     "text": [
      "C:\\Users\\yogeshkumar\\AppData\\Local\\Temp\\ipykernel_22496\\3967532952.py:10: DeprecationWarning: Call to deprecated `glove2word2vec` (KeyedVectors.load_word2vec_format(.., binary=False, no_header=True) loads GLoVE text vectors.).\n",
      "  glove2word2vec(glove_input_file, word2vec_output_file)\n"
     ]
    },
    {
     "name": "stdout",
     "output_type": "stream",
     "text": [
      "[-1.2879   -0.14538  -0.016613  1.1387    1.1317    0.20705  -0.47351\n",
      "  0.15898   0.67879   0.2382    0.11621   0.26053  -0.8379    1.1232\n",
      "  0.31469  -0.47904  -0.33717  -0.34492  -0.72053  -1.0543   -0.58476\n",
      " -0.42184  -0.56977  -1.1697   -0.50389  -1.4706   -0.22005   1.1314\n",
      "  1.0829   -1.5477    0.77931  -0.22865   0.33369   0.52067   0.22109\n",
      "  1.1267    0.11704   1.1647    0.5875   -0.079243  0.022386  0.90118\n",
      " -0.37459   0.82637  -0.41061  -0.95039   0.44121  -0.58558   0.12594\n",
      " -0.71778 ]\n",
      "[('ball', 0.7129055857658386), ('gloves', 0.7020115852355957), ('throws', 0.6995697617530823), ('hat', 0.6933199167251587), ('plate', 0.6828181743621826), ('basket', 0.6727595925331116), ('tying', 0.6715709567070007), ('helmet', 0.6700937747955322), ('backboard', 0.6681182980537415), ('infield', 0.6643968820571899)]\n"
     ]
    }
   ],
   "source": [
    "from gensim.scripts.glove2word2vec import glove2word2vec\n",
    "from gensim.models import KeyedVectors\n",
    "\n",
    "# Step 1: Download and provide the pretrained glove.6B.50d.txt file somewhere accessible\n",
    "\n",
    "glove_input_file = './glove.6B/glove.6B.50d.txt'  # path to glove file\n",
    "word2vec_output_file = './glove.6B/glove.6B.50d.word2vec.txt'\n",
    "\n",
    "# Step 2: Convert glove format to word2vec format (only needs to be done once)\n",
    "glove2word2vec(glove_input_file, word2vec_output_file)\n",
    "\n",
    "# Step 3: Load vectors\n",
    "model = KeyedVectors.load_word2vec_format(word2vec_output_file, binary=False)\n",
    "\n",
    "\n",
    "# Step 4: Use the vectors\n",
    "print(model['glove'])  # embedding vector for 'glove'\n",
    "print(model.most_similar('glove'))\n"
   ]
  },
  {
   "cell_type": "markdown",
   "metadata": {},
   "source": [
    "- Steps: Preprocess the text data.<br>\n",
    "Created the dictionary.<br>\n",
    "Traverse the glove file of a specific dimension and compare each word with all words in the dictionary,\n",
    "if a match occurs, copy the equivalent vector from the glove and paste into embedding_matrix at the corresponding index.<br>\n"
   ]
  },
  {
   "cell_type": "code",
   "execution_count": 57,
   "metadata": {},
   "outputs": [
    {
     "name": "stdout",
     "output_type": "stream",
     "text": [
      "Dense vector for first word is =>  [-5.79900026e-01 -1.10100001e-01 -1.15569997e+00 -2.99059995e-03\n",
      " -2.06129998e-01  4.52890009e-01 -1.66710004e-01 -1.03820002e+00\n",
      " -9.92410004e-01  3.98840010e-01  5.92299998e-01  2.29900002e-01\n",
      "  1.52129996e+00 -1.77640006e-01 -2.97259986e-01 -3.92349988e-01\n",
      " -7.84709990e-01  1.55939996e-01  6.90769970e-01  5.95369995e-01\n",
      " -4.43399996e-01  5.35139978e-01  3.28530014e-01  1.24370003e+00\n",
      "  1.29719996e+00 -1.38779998e+00 -1.09249997e+00 -4.09249991e-01\n",
      " -5.69710016e-01 -3.46560001e-01  3.71630001e+00 -1.04890001e+00\n",
      " -4.67079997e-01 -4.47389990e-01  6.22999994e-03  1.96490008e-02\n",
      " -4.01609987e-01 -6.29130006e-01 -8.25060010e-01  4.55909997e-01\n",
      "  8.26259971e-01  5.70909977e-01  2.11989999e-01  4.68650013e-01\n",
      " -6.00269973e-01  2.99199998e-01  6.79440022e-01  1.42379999e+00\n",
      " -3.21520008e-02 -1.26029998e-01]\n"
     ]
    }
   ],
   "source": [
    "#Download Glove Pretrained Embeddings From: http://nlp.stanford.edu/data/glove.6B.zip  \n",
    "\n",
    "def embedding_for_vocab(filepath, word_index,\n",
    "                        embedding_dim):\n",
    "    vocab_size = len(word_index) + 1\n",
    "      \n",
    "    # Adding again 1 because of reserved 0 index\n",
    "    embedding_matrix_vocab = np.zeros((vocab_size,\n",
    "                                       embedding_dim))\n",
    "  \n",
    "    with open(filepath, encoding=\"utf8\") as f:\n",
    "        for line in f:\n",
    "            word, *vector = line.split()\n",
    "            if word in word_index:\n",
    "                idx = word_index.index(word)\n",
    "                embedding_matrix_vocab[idx] = np.array(\n",
    "                    vector, dtype=np.float32)[:embedding_dim]\n",
    "  \n",
    "    return embedding_matrix_vocab\n",
    "  \n",
    "  \n",
    "# matrix for vocab: tokenized_words\n",
    "embedding_dim = 50\n",
    "embedding_matrix_vocab = embedding_for_vocab(\n",
    "    './glove.6B/glove.6B.50d.txt', tokenized_words,\n",
    "  embedding_dim)\n",
    "  \n",
    "print(\"Dense vector for first word is => \",\n",
    "      embedding_matrix_vocab[1])"
   ]
  },
  {
   "cell_type": "markdown",
   "metadata": {},
   "source": [
    "### 🧠 Comparing Wod2Vec against GloVe\n",
    "\n",
    "| Feature           | Word2Vec                   | GloVe                             |\n",
    "| ----------------- | -------------------------- | --------------------------------- |\n",
    "| Learning Approach | Predict context or word    | Count co-occurrences              |\n",
    "| Local/Global Info | Local context window       | Global co-occurrence statistics   |\n",
    "| Original Language | Python (gensim)            | C (with Python wrappers)          |\n",
    "| Use Case          | Word similarity, analogies | Same + clustering + visualization |\n"
   ]
  },
  {
   "cell_type": "markdown",
   "metadata": {},
   "source": [
    "### Dimensionality Reduction --> SVD (LSA)\n",
    "    Latent Semantic Analysis (LSA) is a technique used in natural language processing to uncover the latent structure in a corpus of text documents by applying Singular Value Decomposition (SVD) to a term-document matrix. It allows us to reduce the dimensionality of the document-term space, thereby capturing the underlying semantic relationships between words and documents."
   ]
  },
  {
   "cell_type": "markdown",
   "metadata": {},
   "source": [
    "Lets create a text corpus:"
   ]
  },
  {
   "cell_type": "code",
   "execution_count": 58,
   "metadata": {},
   "outputs": [],
   "source": [
    "corpus = [\n",
    "    \"The quick brown fox jumps over the lazy dog.\",\n",
    "    \"The dog barked at the fox.\",\n",
    "    \"The fox ran away quickly.\",\n",
    "    \"The dog is lazy.\",\n",
    "    \"The fox is cunning.\",\n",
    "]\n"
   ]
  },
  {
   "cell_type": "markdown",
   "metadata": {},
   "source": [
    "- Create Document-Term Matrix: We use the CountVectorizer from scikit-learn to convert the text documents into a document-term matrix. Each row in the matrix corresponds to a document, and each column represents a word's frequency in that document.\n",
    "\n",
    "- Apply LSA (SVD): We use the TruncatedSVD class from scikit-learn to perform Latent Semantic Analysis. We specify the number of components (dimensions) we want to reduce the feature space to (in this case, we use n_components=2 for simplicity).\n",
    "\n",
    "- Normalize Data: To ensure that each row in the transformed matrix has unit norm, we use the Normalizer from scikit-learn.\n",
    "\n"
   ]
  },
  {
   "cell_type": "code",
   "execution_count": 59,
   "metadata": {},
   "outputs": [],
   "source": [
    "from sklearn.feature_extraction.text import CountVectorizer\n",
    "from sklearn.decomposition import TruncatedSVD\n",
    "from sklearn.preprocessing import Normalizer\n",
    "from sklearn.pipeline import make_pipeline"
   ]
  },
  {
   "cell_type": "code",
   "execution_count": 60,
   "metadata": {},
   "outputs": [
    {
     "name": "stdout",
     "output_type": "stream",
     "text": [
      "  (0, 14)\t2\n",
      "  (0, 11)\t1\n",
      "  (0, 3)\t1\n",
      "  (0, 6)\t1\n",
      "  (0, 8)\t1\n",
      "  (0, 10)\t1\n",
      "  (0, 9)\t1\n",
      "  (0, 5)\t1\n",
      "  (1, 14)\t2\n",
      "  (1, 6)\t1\n",
      "  (1, 5)\t1\n",
      "  (1, 2)\t1\n",
      "  (1, 0)\t1\n",
      "  (2, 14)\t1\n",
      "  (2, 6)\t1\n",
      "  (2, 13)\t1\n",
      "  (2, 1)\t1\n",
      "  (2, 12)\t1\n",
      "  (3, 14)\t1\n",
      "  (3, 9)\t1\n",
      "  (3, 5)\t1\n",
      "  (3, 7)\t1\n",
      "  (4, 14)\t1\n",
      "  (4, 6)\t1\n",
      "  (4, 7)\t1\n",
      "  (4, 4)\t1\n"
     ]
    }
   ],
   "source": [
    "vectorizer = CountVectorizer()\n",
    "X = vectorizer.fit_transform(corpus)\n",
    "print(X)"
   ]
  },
  {
   "cell_type": "code",
   "execution_count": 61,
   "metadata": {},
   "outputs": [
    {
     "data": {
      "text/plain": [
       "array([[ 2.9971702 ,  1.12180185],\n",
       "       [ 2.43176445, -0.54765212],\n",
       "       [ 1.32104798, -1.45967715],\n",
       "       [ 1.4173243 ,  0.50151648],\n",
       "       [ 1.32627769, -0.61297725]])"
      ]
     },
     "execution_count": 61,
     "metadata": {},
     "output_type": "execute_result"
    }
   ],
   "source": [
    "# Apply SVD (Latent Semantic Analysis)\n",
    "n_components = 2  # Number of components after reducing dimensions\n",
    "lsa = TruncatedSVD(n_components)\n",
    "X_lsa = lsa.fit_transform(X)\n",
    "X_lsa"
   ]
  },
  {
   "cell_type": "code",
   "execution_count": 62,
   "metadata": {},
   "outputs": [
    {
     "name": "stdout",
     "output_type": "stream",
     "text": [
      "\n",
      "LSA Reduced Dimensionality:\n",
      "[[ 0.93654853  0.35053794]\n",
      " [ 0.97556634 -0.21970507]\n",
      " [ 0.67102161 -0.7414378 ]\n",
      " [ 0.94272191  0.33357967]\n",
      " [ 0.90773814 -0.4195372 ]]\n"
     ]
    }
   ],
   "source": [
    "# Normalize the transformed data\n",
    "lsa_pipeline = make_pipeline(lsa, Normalizer(copy=False))\n",
    "X_lsa_normalized = lsa_pipeline.fit_transform(X)\n",
    "print(\"\\nLSA Reduced Dimensionality:\")\n",
    "print(X_lsa_normalized)"
   ]
  },
  {
   "cell_type": "markdown",
   "metadata": {},
   "source": []
  },
  {
   "cell_type": "markdown",
   "metadata": {},
   "source": [
    "## Part 2: The Workshop"
   ]
  },
  {
   "cell_type": "markdown",
   "metadata": {},
   "source": [
    "\n",
    "One team member must push the final notebook to GitHub and send the `.git` URL to the instructor before the end of class."
   ]
  },
  {
   "cell_type": "markdown",
   "metadata": {},
   "source": [
    "## 🧠 Learning Objectives\n",
    "- Implement **Word2Vec**  and **GloVe** using real-world data during the NLP process.\n",
    "- Build **Jupyter Notebooks** with well-structured code and clear Markdown documentation.\n",
    "- Use **Git and GitHub** for collaborative version control and code sharing.\n",
    "- Identify and articulate coding issues (\"**talking points**\") and insert them directly into peer notebooks.\n",
    "- Practice **collaborative debugging**, professional peer feedback, and improve code quality.\n",
    "\n",
    "## 🧩 Workshop Structure (90 Minutes)\n",
    "1. **Instructor-led demo of predictive and count-based models** *(20 min)* – Set up teams of 3 people. Read and understand the workshop, plus submission instructions. Seek assistance if needed.\n",
    "2. **Team Jupyter Notebook Development** *(65 min)* – NLP Pipeline and four Probabilistic Language Model method implementations + Markdown documentation (work as teams)\n",
    "3. **Push to GitHub** *(5 min)* – Teams commit and push the one notebook. **Make sure to include your names so it is easy to identify the team that developed the code**.\n",
    "4. **Instructor Review** - The instructor will go around, take notes, and provide coaching as needed, during the **Peer Review Round**\n",
    "5. **Email Delivery** *(1 min)* – Each team send the instructor an email **with the *.git link** to the GitHub repo **(one email/team)**. Subject on the email is: PROG8245 - Embeddings, Clustering, and Vectorization Workshop, Team #_____.\n",
    "\n",
    "\n",
    "## 💻 Submission Checklist\n",
    "- ✅ `EmbeddingClusteringVectorizationWorkshop.ipynb` with:\n",
    "  - Demo code: Document Collection, Tokenizer, Normalization Pipeline on a relevant corpus (i.e., for your final project).\n",
    "  - Demo code: Implement a Word2Vec predictive model using the knowledge corpus.\n",
    "  - Demo code: Implement a GloVe count-based model using the knowledge corpus.\n",
    "  - Markdown explanations for each major step\n",
    "  - **Labeled talking point(s)** in a table that compares **Word2Vec** against **GloVe** in the context of the use case that makes use of the knowledge corpus.\n",
    "- ✅ `README.md` with:\n",
    "  - Dataset description\n",
    "  - Team member names\n",
    "  - Link to the dataset and license (if public)\n",
    "- ✅ GitHub Repo:\n",
    "  - Public repo named `EmbeddingClusteringVectorizationWorkshop`\n",
    "  - This is a group effort, so **choose one member of the team** to publish the repo\n",
    "  - At least **one commit containing one meaningful talking point**"
   ]
  }
 ],
 "metadata": {
  "kernelspec": {
   "display_name": ".venv",
   "language": "python",
   "name": "python3"
  },
  "language_info": {
   "codemirror_mode": {
    "name": "ipython",
    "version": 3
   },
   "file_extension": ".py",
   "mimetype": "text/x-python",
   "name": "python",
   "nbconvert_exporter": "python",
   "pygments_lexer": "ipython3",
   "version": "3.12.2"
  },
  "orig_nbformat": 4
 },
 "nbformat": 4,
 "nbformat_minor": 2
}
